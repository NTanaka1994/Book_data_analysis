{
 "cells": [
  {
   "cell_type": "markdown",
   "metadata": {},
   "source": [
    "# 論文のテキスト化\n",
    "論文に限らず様々な文献は基本的に電子だとPDFで提供されることが多い。その一つの理由として例えばワード形式一つで見てもWindowsかMacかで表示が多少異なったり他のソフトウェア(LibreOffice等)を用いると書式が変わることがあるがPDFに変換することで作成に使用したソフトウェアに依存せず同じ書式で読むことができる。\n",
    "\n",
    "しかし例えば論文や文献が英語で提供されていると日本人だと日本語で理解する者が大多数であるがPDFの常態でコピー&ペースは非常にやりにくいところがある。そこで論文をテキストに変換し次の章に使う機械翻訳を行う準備をする。\n",
    "\n",
    "# ライブラリのインストール"
   ]
  },
  {
   "cell_type": "code",
   "execution_count": 1,
   "metadata": {},
   "outputs": [
    {
     "name": "stdout",
     "output_type": "stream",
     "text": [
      "Requirement already satisfied: PyPDF2 in c:\\users\\decar\\anaconda3\\lib\\site-packages (1.26.0)\n"
     ]
    }
   ],
   "source": [
    "!pip install PyPDF2"
   ]
  },
  {
   "cell_type": "markdown",
   "metadata": {},
   "source": [
    "# ライブラリのインポート"
   ]
  },
  {
   "cell_type": "code",
   "execution_count": 2,
   "metadata": {},
   "outputs": [],
   "source": [
    "import PyPDF2 as pdf"
   ]
  },
  {
   "cell_type": "markdown",
   "metadata": {},
   "source": [
    "# PDFのデータをテキストに変換し、指定したフォルダにページごとのデータを蓄積"
   ]
  },
  {
   "cell_type": "code",
   "execution_count": 3,
   "metadata": {},
   "outputs": [],
   "source": [
    "f = open(\"E-Voting.pdf\", \"rb\")\n",
    "reader = pdf.PdfFileReader(f)\n",
    "for i in range (reader.getNumPages()):\n",
    "    page = reader.getPage(i)\n",
    "    f1 = open(\"english/page\"+str(i+1)+\".txt\", \"w\", encoding=\"utf-8\")\n",
    "    f1.write(page.extractText())\n",
    "    f1.close()\n",
    "f.close()"
   ]
  },
  {
   "cell_type": "code",
   "execution_count": null,
   "metadata": {},
   "outputs": [],
   "source": []
  }
 ],
 "metadata": {
  "kernelspec": {
   "display_name": "Python 3",
   "language": "python",
   "name": "python3"
  },
  "language_info": {
   "codemirror_mode": {
    "name": "ipython",
    "version": 3
   },
   "file_extension": ".py",
   "mimetype": "text/x-python",
   "name": "python",
   "nbconvert_exporter": "python",
   "pygments_lexer": "ipython3",
   "version": "3.7.1"
  }
 },
 "nbformat": 4,
 "nbformat_minor": 2
}
